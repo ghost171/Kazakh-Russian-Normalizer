{
 "cells": [
  {
   "cell_type": "code",
   "execution_count": 2,
   "metadata": {
    "tags": [
     "outputPrepend"
    ]
   },
   "outputs": [
    {
     "name": "stderr",
     "output_type": "stream",
     "text": [
      "100%|██████████| 3752229/3752229 [03:14<00:00, 19287.05it/s]"
     ]
    },
    {
     "name": "stdout",
     "output_type": "stream",
     "text": [
      "Empty DataFrame\n",
      "Columns: []\n",
      "Index: []\n",
      "count of just sentences 1163860\n",
      "percent 0.31017829668711583\n"
     ]
    },
    {
     "name": "stderr",
     "output_type": "stream",
     "text": [
      "\n"
     ]
    }
   ],
   "source": [
    "import pandas as pd\n",
    "from num2word.normalizer import number_converter\n",
    "import os, sys\n",
    "from tqdm import tqdm\n",
    "\n",
    "with open(os.path.join(sys.path[0], 'all_texts/sents.txt'), \"r\") as file:\n",
    "    examples = file.readlines()\n",
    "\n",
    "predicted = []\n",
    "examples_first_1000 = examples\n",
    "remarked_all = 0\n",
    "for x in tqdm(examples_first_1000):\n",
    "    #print(\"TEXT\", x)\n",
    "    predict, remarked = number_converter(x)\n",
    "    remarked_all += remarked\n",
    "    predicted.append(predict)\n",
    "    #print(\"PREDICT\", predict)\n",
    "\n",
    "df = pd.DataFrame()\n",
    "\n",
    "\n",
    "print(df)\n",
    "print(\"count of just sentences\", remarked_all)\n",
    "print(\"percent\", remarked_all / len(predicted))\n",
    "\n"
   ]
  },
  {
   "cell_type": "code",
   "execution_count": 3,
   "metadata": {},
   "outputs": [
    {
     "data": {
      "text/plain": [
       "1163860"
      ]
     },
     "execution_count": 3,
     "metadata": {},
     "output_type": "execute_result"
    }
   ],
   "source": [
    "remarked_all"
   ]
  },
  {
   "cell_type": "code",
   "execution_count": 4,
   "metadata": {},
   "outputs": [],
   "source": [
    "df = pd.DataFrame()\n",
    "df['samples'] = examples\n",
    "df['predicted'] = predicted"
   ]
  },
  {
   "cell_type": "code",
   "execution_count": 6,
   "metadata": {},
   "outputs": [],
   "source": [
    "df_1 = df[:625371]\n",
    "\n",
    "df_2 = df[625371:2*625371]\n",
    "\n",
    "df_3 = df[2*625371:3*625371]\n",
    "\n",
    "df_4 = df[3*625371:4*625371]\n"
   ]
  },
  {
   "cell_type": "code",
   "execution_count": 12,
   "metadata": {},
   "outputs": [],
   "source": [
    "compression_opts = dict(method='zip', archive_name='out_final_1.csv')  \n",
    "\n",
    "df_1.to_csv('all_texts_csv/out_final_1.zip', index=False, compression=compression_opts)"
   ]
  },
  {
   "cell_type": "code",
   "execution_count": 16,
   "metadata": {},
   "outputs": [],
   "source": [
    "compression_opts = dict(method='zip', archive_name='out_final_2.csv')  \n",
    "\n",
    "df_2.to_csv('all_texts_csv/out_final_2.zip', index=False, compression=compression_opts)"
   ]
  },
  {
   "cell_type": "code",
   "execution_count": 17,
   "metadata": {},
   "outputs": [],
   "source": [
    "compression_opts = dict(method='zip', archive_name='out_final_3.csv')  \n",
    "\n",
    "df_3.to_csv('all_texts_csv/out_final_3.zip', index=False, compression=compression_opts)"
   ]
  },
  {
   "cell_type": "code",
   "execution_count": 18,
   "metadata": {},
   "outputs": [],
   "source": [
    "compression_opts = dict(method='zip', archive_name='out_final_4.csv')  \n",
    "\n",
    "df_4.to_csv('all_texts_csv/out_final_4.zip', index=False, compression=compression_opts)"
   ]
  },
  {
   "cell_type": "code",
   "execution_count": 19,
   "metadata": {},
   "outputs": [],
   "source": [
    "df_5 = df[4*625371:5*625371]\n",
    "\n",
    "df_6 = df[5*625371:6*625371]\n",
    "\n",
    "df_7 = df[6*625371:7*625371]\n",
    "\n",
    "df_8 = df[7*625371:8*625371]\n"
   ]
  },
  {
   "cell_type": "code",
   "execution_count": 20,
   "metadata": {},
   "outputs": [],
   "source": [
    "compression_opts = dict(method='zip', archive_name='out_final_5.csv')  \n",
    "\n",
    "df_5.to_csv('all_texts_csv/out_final_5.zip', index=False, compression=compression_opts)"
   ]
  },
  {
   "cell_type": "code",
   "execution_count": 21,
   "metadata": {},
   "outputs": [],
   "source": [
    "compression_opts = dict(method='zip', archive_name='out_final_6.csv')  \n",
    "\n",
    "df_6.to_csv('all_texts_csv/out_final_6.zip', index=False, compression=compression_opts)"
   ]
  },
  {
   "cell_type": "code",
   "execution_count": 34,
   "metadata": {},
   "outputs": [
    {
     "data": {
      "text/plain": [
       "1250742"
      ]
     },
     "execution_count": 34,
     "metadata": {},
     "output_type": "execute_result"
    }
   ],
   "source": [
    "df_1.size"
   ]
  },
  {
   "cell_type": "code",
   "execution_count": null,
   "metadata": {},
   "outputs": [],
   "source": []
  }
 ],
 "metadata": {
  "kernelspec": {
   "display_name": "Python 3 (ipykernel)",
   "language": "python",
   "name": "python3"
  }
 },
 "nbformat": 4,
 "nbformat_minor": 2
}